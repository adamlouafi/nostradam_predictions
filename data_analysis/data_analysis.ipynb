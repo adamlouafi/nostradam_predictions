{
 "cells": [],
 "metadata": {
  "orig_nbformat": 4,
  "language_info": {
   "name": "python",
   "version": "3.9.6",
   "mimetype": "text/x-python",
   "codemirror_mode": {
    "name": "ipython",
    "version": 3
   },
   "pygments_lexer": "ipython3",
   "nbconvert_exporter": "python",
   "file_extension": ".py"
  },
  "kernelspec": {
   "name": "python3",
   "display_name": "Python 3.9.6 64-bit ('nostradam_predictions': conda)"
  },
  "interpreter": {
   "hash": "311d9cf339965dea89cc88540f84133e2beeea3f0319c3ca6375cd136d9eecf4"
  }
 },
 "nbformat": 4,
 "nbformat_minor": 2
}